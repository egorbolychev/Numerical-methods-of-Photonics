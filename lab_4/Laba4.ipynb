{
  "nbformat": 4,
  "nbformat_minor": 0,
  "metadata": {
    "colab": {
      "name": "Лаба4.ipynb",
      "provenance": [],
      "collapsed_sections": []
    },
    "kernelspec": {
      "name": "python3",
      "display_name": "Python 3"
    },
    "language_info": {
      "name": "python"
    }
  },
  "cells": [
    {
      "cell_type": "code",
      "execution_count": 370,
      "metadata": {
        "id": "PZFsAYzk2zwW",
        "colab": {
          "base_uri": "https://localhost:8080/"
        },
        "outputId": "6da23186-444e-4867-b3b2-85da939f8c4b"
      },
      "outputs": [
        {
          "output_type": "stream",
          "name": "stdout",
          "text": [
            "[-1, 0, 2]\n",
            "Matrix([[2 - x, 1, -3], [0, 1 - x, -1], [0, -2, 2 - x]])\n"
          ]
        }
      ],
      "source": [
        "import numpy as np\n",
        "from numpy import linalg\n",
        "import sympy as sp\n",
        "from sympy import *\n",
        "# Подготовка\n",
        "\n",
        "A = Matrix([[2, 1, -3],\n",
        "            [0, 1, -1],\n",
        "            [0, -2, 2]])\n",
        "x = Symbol('x')\n",
        "eigenv_start = [-1, 0, 2]\n",
        "print(eigenv_start)\n",
        "matrix = A - eye(sqrt(len(A))) * x\n",
        "det_expr1 = matrix.det()\n",
        "det_diff1 = diff(det_expr1)\n",
        "det_expr = lambdify(x, det_expr1)\n",
        "det_diff = lambdify(x, det_diff1)\n",
        "print(matrix)"
      ]
    },
    {
      "cell_type": "code",
      "source": [
        "#Собственные значения и вектора методом Ньютона\n",
        "def Newton(eigenv_start, matrix, n):\n",
        "  for step in range(n):\n",
        "    eigenv_start = eigenv_start - det_expr(eigenv_start) / det_diff(eigenv_start)\n",
        "  return eigenv_start\n",
        "\n",
        "\n",
        "for i in range(len(eigenv_start)):\n",
        "  m = 0\n",
        "  eigenv_start[i]= Newton(eigenv_start[i], matrix, 100)\n",
        "  if (eigenv_start[i] - eigenv_start[i - 1]) ** 2 < 10 ** -4 and i > 0:\n",
        "   while (eigenv_start[i] - eigenv_start[i - 1]) ** 2 < 10 ** -4:\n",
        "     m += 0.5\n",
        "     eigenv_start[i] += m\n",
        "     eigenv_start[i]= Newton(eigenv_start[i], matrix, 100)\n",
        "\n",
        "print(eigenv_start)"
      ],
      "metadata": {
        "colab": {
          "base_uri": "https://localhost:8080/"
        },
        "id": "BcWCIIv6BCcc",
        "outputId": "65f3bc54-3480-4f9e-de59-dabb2adb39a0"
      },
      "execution_count": 371,
      "outputs": [
        {
          "output_type": "stream",
          "name": "stdout",
          "text": [
            "[0.0, 3.0, 2.0]\n"
          ]
        }
      ]
    },
    {
      "cell_type": "code",
      "source": [
        "#Собственные вектора методом Якоби\n",
        "def Jacoby(x, A1, A2, D, n):\n",
        "  for i in range(n):\n",
        "    x = -linalg.inv(D) @ A1 @ x - linalg.inv(D) @ A2 @ x\n",
        "    norm = np.linalg.norm(x)\n",
        "  return x /norm"
      ],
      "metadata": {
        "id": "4owxh0oZHm2L"
      },
      "execution_count": 348,
      "outputs": []
    },
    {
      "cell_type": "code",
      "source": [
        "#Собственные вектора методом Зейделя\n",
        "def Zeydel(x, A1, A2, D, n):\n",
        "  for i in range(n):\n",
        "    x = linalg.inv(D + A1) @ A2 @ x\n",
        "    norm = np.linalg.norm(x)\n",
        "  return x /norm"
      ],
      "metadata": {
        "id": "nYJgIrH44N-L"
      },
      "execution_count": 349,
      "outputs": []
    },
    {
      "cell_type": "code",
      "source": [
        "#Собственные вектора методом SOR\n",
        "def SOR(x, A1, A2, D, n, w):\n",
        "  I = np.eye(sqrt(len(A)))\n",
        "  for i in range(n):\n",
        "    x = -linalg.inv(I + w * linalg.inv(D) @ A1) @ ((1 - w) * I - w * linalg.inv(D) @ A2) @ x\n",
        "    norm = np.linalg.norm(x)\n",
        "  return x /norm"
      ],
      "metadata": {
        "id": "kgzSwlv04qPO"
      },
      "execution_count": 350,
      "outputs": []
    },
    {
      "cell_type": "code",
      "source": [
        "x = np.ones(sqrt(len(A)))\n",
        "\n",
        "for i in eigenv_start:\n",
        "  new_matrix = np.array(A, float) - np.eye(sqrt(len(A))) * i\n",
        "  A1 = np.tril(new_matrix, k=-1)\n",
        "  A2 = np.triu(new_matrix, k=1)\n",
        "  D = np.eye(sqrt(len(A))) * new_matrix\n",
        "  print('Для собственного числа {0:.3f}'.format(i))\n",
        "  print('Метод Якоби: ', Jacoby(x, A1, A2, D, 50))\n",
        "  print('---------------------')\n",
        "  print('Метод Зейделя: ', Zeydel(x, A1, A2, D, 20))\n",
        "  print('---------------------')\n",
        "  print('Метод SOR: ', SOR(x, A1, A2, D, 20, 1))\n",
        "  print('=====================')"
      ],
      "metadata": {
        "colab": {
          "base_uri": "https://localhost:8080/"
        },
        "id": "vRJ5SM2S1TFv",
        "outputId": "773e9e0c-0101-47ae-fc80-d7496cab5e64"
      },
      "execution_count": 351,
      "outputs": [
        {
          "output_type": "stream",
          "name": "stdout",
          "text": [
            "Для собственного числа -2.000\n",
            "Метод Якоби:  [0.63960215 0.42640143 0.63960215]\n",
            "---------------------\n",
            "Метод Зейделя:  [-2.13190511e-08 -4.47213587e-01  8.94427195e-01]\n",
            "---------------------\n",
            "Метод SOR:  [-2.13190511e-08 -4.47213587e-01  8.94427195e-01]\n",
            "=====================\n",
            "Для собственного числа 4.000\n",
            "Метод Якоби:  [-0.51449576  0.68599434 -0.51449576]\n",
            "---------------------\n",
            "Метод Зейделя:  [-0.97049496  0.21566555 -0.10783277]\n",
            "---------------------\n",
            "Метод SOR:  [-0.97049496  0.21566555 -0.10783277]\n",
            "=====================\n",
            "Для собственного числа 2.000\n",
            "Метод Якоби:  [-0.40824829  0.81649658 -0.40824829]\n",
            "---------------------\n",
            "Метод Зейделя:  [-8.94427191e-01  4.47213596e-01  5.13038426e-11]\n",
            "---------------------\n",
            "Метод SOR:  [-8.94427191e-01  4.47213596e-01  5.13038426e-11]\n",
            "=====================\n"
          ]
        }
      ]
    },
    {
      "cell_type": "code",
      "source": [
        "# Программно\n",
        "B = np.array(A, float) * 1\n",
        "w, v = np.linalg.eig(B)\n",
        "print(w)\n",
        "print(v)"
      ],
      "metadata": {
        "colab": {
          "base_uri": "https://localhost:8080/"
        },
        "id": "ThtOU0O7GV5E",
        "outputId": "4ee5a29a-6161-4627-b7a8-aa6327223e37"
      },
      "execution_count": 354,
      "outputs": [
        {
          "output_type": "stream",
          "name": "stdout",
          "text": [
            "[5. 5. 3.]\n",
            "[[ 1.          0.          0.57735027]\n",
            " [ 0.          0.70710678  0.57735027]\n",
            " [ 0.         -0.70710678  0.57735027]]\n"
          ]
        }
      ]
    },
    {
      "cell_type": "code",
      "source": [
        "A = np.array([[16, 3, 2],\n",
        "            [3, 5, 1],\n",
        "            [2, 1, 10]], float)\n",
        "B = np.array([0, 0, 1])\n",
        "print(linalg.solve(A, B))"
      ],
      "metadata": {
        "colab": {
          "base_uri": "https://localhost:8080/"
        },
        "id": "mTOiApvtPgL6",
        "outputId": "a3e59422-39ea-4179-a31c-e2b556afcb1b"
      },
      "execution_count": 149,
      "outputs": [
        {
          "output_type": "stream",
          "name": "stdout",
          "text": [
            "[-0.01020408 -0.01457726  0.10349854]\n"
          ]
        }
      ]
    }
  ]
}