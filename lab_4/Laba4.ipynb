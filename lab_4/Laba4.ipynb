{
  "nbformat": 4,
  "nbformat_minor": 0,
  "metadata": {
    "colab": {
      "name": "laba14.ipynb",
      "provenance": [],
      "collapsed_sections": []
    },
    "kernelspec": {
      "name": "python3",
      "display_name": "Python 3"
    },
    "language_info": {
      "name": "python"
    }
  },
  "cells": [
    {
      "cell_type": "code",
      "execution_count": 8,
      "metadata": {
        "id": "PZFsAYzk2zwW",
        "colab": {
          "base_uri": "https://localhost:8080/"
        },
        "outputId": "b1417cc0-f33c-4cab-85ad-654db7f05b4b"
      },
      "outputs": [
        {
          "output_type": "stream",
          "name": "stdout",
          "text": [
            "Matrix([[3 - x, 7, 3], [7, 7 - x, 4], [3, 4, 15 - x]])\n"
          ]
        }
      ],
      "source": [
        "import numpy as np\n",
        "from numpy import linalg\n",
        "import sympy as sp\n",
        "from sympy import *\n",
        "# Подготовка\n",
        "A = Matrix([[3, 7, 3],\n",
        "            [7, 7, 4],\n",
        "            [3, 4, 15]])\n",
        "x = Symbol('x')\n",
        "matrix = A - eye(sqrt(len(A))) * x\n",
        "det_expr1 = matrix.det()\n",
        "det_diff1 = diff(det_expr1)\n",
        "det_expr = lambdify(x, det_expr1)\n",
        "det_diff = lambdify(x, det_diff1)\n",
        "print(matrix)"
      ]
    },
    {
      "cell_type": "code",
      "source": [
        "# Приближение\n",
        "eigenv_start = []\n",
        "x_trace = np.linspace(-100, 100, 1000)\n",
        "for i in range(1, len(x_trace)):\n",
        "  if det_expr(x_trace[i]) * det_expr(x_trace[i - 1]) < 0:\n",
        "    eigenv_start.append(x_trace[i - 1])\n",
        "print(eigenv_start)"
      ],
      "metadata": {
        "colab": {
          "base_uri": "https://localhost:8080/"
        },
        "id": "iMoK1V1KlWZ2",
        "outputId": "faf95bd3-193f-463e-af8b-c4c8f12aa669"
      },
      "execution_count": 9,
      "outputs": [
        {
          "output_type": "stream",
          "name": "stdout",
          "text": [
            "[-2.3023023023022944, 8.308308308308312, 18.71871871871872]\n"
          ]
        }
      ]
    },
    {
      "cell_type": "code",
      "source": [
        "#Собственные значения и вектора методом Ньютона\n",
        "def Newton(eigenv_start, matrix, n):\n",
        "  for step in range(n):\n",
        "    eigenv_start = eigenv_start - det_expr(eigenv_start) / det_diff(eigenv_start)\n",
        "  return eigenv_start\n",
        "\n",
        "\n",
        "for i in range(len(eigenv_start)):\n",
        "  m = 0\n",
        "  eigenv_start[i]= Newton(eigenv_start[i], matrix, 100)\n",
        "  if (eigenv_start[i] - eigenv_start[i - 1]) ** 2 < 10 ** -4 and i > 0:\n",
        "   while (eigenv_start[i] - eigenv_start[i - 1]) ** 2 < 10 ** -4:\n",
        "     m += 1\n",
        "     eigenv_start[i] += m\n",
        "     eigenv_start[i]= Newton(eigenv_start[i], matrix, 100)\n",
        "\n",
        "print(eigenv_start)"
      ],
      "metadata": {
        "colab": {
          "base_uri": "https://localhost:8080/"
        },
        "id": "BcWCIIv6BCcc",
        "outputId": "581ab2c2-1565-40b0-90f2-c237cc58c012"
      },
      "execution_count": 10,
      "outputs": [
        {
          "output_type": "stream",
          "name": "stdout",
          "text": [
            "[-2.280122012849309, 8.458434085825909, 18.8216879270234]\n"
          ]
        }
      ]
    },
    {
      "cell_type": "code",
      "source": [
        "#Собственные вектора методом Якоби\n",
        "def Jacoby(x, A1, A2, D, n):\n",
        "  for i in range(n):\n",
        "    x = -linalg.inv(D) @ A1 @ x - linalg.inv(D) @ A2 @ x\n",
        "    norm = np.linalg.norm(x)\n",
        "  return x /norm"
      ],
      "metadata": {
        "id": "4owxh0oZHm2L"
      },
      "execution_count": 11,
      "outputs": []
    },
    {
      "cell_type": "code",
      "source": [
        "#Собственные вектора методом Зейделя\n",
        "def Zeydel(x, A1, A2, D, n):\n",
        "  for i in range(n):\n",
        "    x = linalg.inv(D + A1) @ A2 @ x\n",
        "    norm = np.linalg.norm(x)\n",
        "  return x /norm"
      ],
      "metadata": {
        "id": "nYJgIrH44N-L"
      },
      "execution_count": 12,
      "outputs": []
    },
    {
      "cell_type": "code",
      "source": [
        "#Собственные вектора методом SOR\n",
        "def SOR(x, A1, A2, D, n, w):\n",
        "  I = np.eye(sqrt(len(A)))\n",
        "  for i in range(n):\n",
        "    x = -linalg.inv(I + w * linalg.inv(D) @ A1) @ ((1 - w) * I - w * linalg.inv(D) @ A2) @ x\n",
        "    norm = np.linalg.norm(x)\n",
        "  return x /norm"
      ],
      "metadata": {
        "id": "kgzSwlv04qPO"
      },
      "execution_count": 13,
      "outputs": []
    },
    {
      "cell_type": "code",
      "source": [
        "x = np.ones(sqrt(len(A)))\n",
        "\n",
        "for i in eigenv_start:\n",
        "  new_matrix = np.array(A, float) - np.eye(sqrt(len(A))) * i\n",
        "  A1 = np.tril(new_matrix, k=-1)\n",
        "  A2 = np.triu(new_matrix, k=1)\n",
        "  D = np.eye(sqrt(len(A))) * new_matrix\n",
        "  print('Для собственного числа {0:.3f}'.format(i))\n",
        "  print('Метод Якоби: ', Jacoby(x, A1, A2, D, 30))\n",
        "  print('---------------------')\n",
        "  print('Метод Зейделя: ', Zeydel(x, A1, A2, D, 20))\n",
        "  print('---------------------')\n",
        "  print('Метод SOR: ', SOR(x, A1, A2, D, 20, 1))\n",
        "  print('=====================')"
      ],
      "metadata": {
        "colab": {
          "base_uri": "https://localhost:8080/"
        },
        "id": "vRJ5SM2S1TFv",
        "outputId": "d0b76385-73ef-4af6-8b09-0c9a23206b60"
      },
      "execution_count": 14,
      "outputs": [
        {
          "output_type": "stream",
          "name": "stdout",
          "text": [
            "Для собственного числа -2.280\n",
            "Метод Якоби:  [0.77599697 0.58679127 0.23131086]\n",
            "---------------------\n",
            "Метод Зейделя:  [-0.79816578  0.60243722 -0.00088261]\n",
            "---------------------\n",
            "Метод SOR:  [-0.79816578  0.60243722 -0.00088261]\n",
            "=====================\n",
            "Для собственного числа 8.458\n",
            "Метод Якоби:  [ 0.49546047 -0.85941998 -0.1261595 ]\n",
            "---------------------\n",
            "Метод Зейделя:  [ 0.36149238  0.71246079 -0.60143402]\n",
            "---------------------\n",
            "Метод SOR:  [ 0.36149238  0.71246079 -0.60143402]\n",
            "=====================\n",
            "Для собственного числа 18.822\n",
            "Метод Якоби:  [0.36527992 0.48512141 0.79449846]\n",
            "---------------------\n",
            "Метод Зейделя:  [0.36527993 0.48512137 0.79449848]\n",
            "---------------------\n",
            "Метод SOR:  [0.36527993 0.48512137 0.79449848]\n",
            "=====================\n"
          ]
        }
      ]
    },
    {
      "cell_type": "code",
      "source": [
        "# Программно\n",
        "B = np.array(A, float) * 1\n",
        "w, v = np.linalg.eig(B)\n",
        "print(w)\n",
        "print(v)"
      ],
      "metadata": {
        "colab": {
          "base_uri": "https://localhost:8080/"
        },
        "id": "ThtOU0O7GV5E",
        "outputId": "e2ebe8b4-c76e-44ad-92d9-f3f6750dbc55"
      },
      "execution_count": 15,
      "outputs": [
        {
          "output_type": "stream",
          "name": "stdout",
          "text": [
            "[18.82168793 -2.28012201  8.45843409]\n",
            "[[-0.36527993 -0.79816578 -0.47906363]\n",
            " [-0.48512137  0.60243722 -0.6338191 ]\n",
            " [-0.79449848 -0.00088261  0.6072655 ]]\n"
          ]
        }
      ]
    },
    {
      "cell_type": "code",
      "source": [
        "A = np.array([[16, 3, 2],\n",
        "            [3, 5, 1],\n",
        "            [2, 1, 10]], float)\n",
        "B = np.array([0, 0, 1])\n",
        "print(linalg.solve(A, B))"
      ],
      "metadata": {
        "colab": {
          "base_uri": "https://localhost:8080/"
        },
        "id": "mTOiApvtPgL6",
        "outputId": "e905a64e-8ff8-463d-d1e1-61e6b8653a13"
      },
      "execution_count": null,
      "outputs": [
        {
          "output_type": "stream",
          "name": "stdout",
          "text": [
            "[-0.01020408 -0.01457726  0.10349854]\n"
          ]
        }
      ]
    },
    {
      "cell_type": "code",
      "source": [
        ""
      ],
      "metadata": {
        "id": "AHOANt8N8Wau"
      },
      "execution_count": null,
      "outputs": []
    }
  ]
}