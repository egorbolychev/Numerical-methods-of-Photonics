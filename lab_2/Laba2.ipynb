{
  "nbformat": 4,
  "nbformat_minor": 0,
  "metadata": {
    "colab": {
      "name": "Лабараторная2.ipynb",
      "provenance": []
    },
    "kernelspec": {
      "name": "python3",
      "display_name": "Python 3"
    },
    "language_info": {
      "name": "python"
    }
  },
  "cells": [
    {
      "cell_type": "code",
      "execution_count": 75,
      "metadata": {
        "id": "48t39_iAJBKy"
      },
      "outputs": [],
      "source": [
        "import numpy as np\n",
        "from numpy.linalg import inv\n",
        "import time"
      ]
    },
    {
      "cell_type": "code",
      "source": [
        "A = np.array([[10, 3, 0],\n",
        "             [3, 15, 1],\n",
        "             [0, 1, 7]], float)\n",
        "f  = np.array([2, 12, 5], float)\n",
        "A2 = np.triu(A, 1)\n",
        "A1 = np.tril(A, -1)\n",
        "D = np.diag(np.diag(A))"
      ],
      "metadata": {
        "colab": {
          "base_uri": "https://localhost:8080/"
        },
        "id": "mVma99M3JD0h",
        "outputId": "a48bf6db-68ac-4eb5-ae04-09d47ad807ae"
      },
      "execution_count": 55,
      "outputs": [
        {
          "output_type": "execute_result",
          "data": {
            "text/plain": [
              "array([-0.0296827 ,  0.76560901,  0.604913  ])"
            ]
          },
          "metadata": {},
          "execution_count": 55
        }
      ]
    },
    {
      "cell_type": "code",
      "source": [
        "# Метод Якоби\n",
        "tic = time.perf_counter()\n",
        "x = np.ones_like(f)\n",
        "while np.sqrt(np.sum((f - A @ x) ** 2))/(np.sqrt(np.sum(f ** 2))) > 10 ** -4:\n",
        "  x = -inv(D) @ A1 @ x - inv(D) @ A2 @ x + inv(D) @ f\n",
        "print(x)\n",
        "toc = time.perf_counter()\n",
        "print(\"Время потраченное на выполнение: \", toc-tic)"
      ],
      "metadata": {
        "colab": {
          "base_uri": "https://localhost:8080/"
        },
        "id": "VGHS_ocXJUSN",
        "outputId": "1148dbae-976c-4cb3-e5eb-1c6110333fb7"
      },
      "execution_count": 84,
      "outputs": [
        {
          "output_type": "stream",
          "name": "stdout",
          "text": [
            "[-0.02965929  0.76561448  0.60492415]\n",
            "Время потраченное на выполнение:  0.004696024000168109\n"
          ]
        }
      ]
    },
    {
      "cell_type": "code",
      "source": [
        "# метод Гаусса-Зейделя\n",
        "tic = time.perf_counter()\n",
        "x = np.ones_like(f)\n",
        "while np.sqrt(np.sum((f - A @ x) ** 2))/(np.sqrt(np.sum(f ** 2))) > 10 ** -4:\n",
        "  x = inv(D + A1) @ (f - A2 @ x)\n",
        "print(x)\n",
        "\n",
        "toc = time.perf_counter()\n",
        "print(\"Время потраченное на выполнение: \", toc-tic)"
      ],
      "metadata": {
        "colab": {
          "base_uri": "https://localhost:8080/"
        },
        "id": "W4SPJ_Y-LS9y",
        "outputId": "4aa58d21-7854-4f3a-c20e-4682b1ab4619"
      },
      "execution_count": 81,
      "outputs": [
        {
          "output_type": "stream",
          "name": "stdout",
          "text": [
            "[-0.0296649   0.76560488  0.60491359]\n",
            "Время потраченное на выполнение:  0.0008191960000658582\n"
          ]
        }
      ]
    },
    {
      "cell_type": "code",
      "source": [
        "# метод SOR\n",
        "tic = time.perf_counter()\n",
        "x = np.ones_like(f)\n",
        "w = 0.5\n",
        "\n",
        "while np.sqrt(np.sum((f - A @ x) ** 2))/(np.sqrt(np.sum(f ** 2))) > 10 ** -4:\n",
        "  x = inv(np.eye(len(f)) + w * inv(D) @ A1) @ (((1 - w) * np.eye(len(f)) - w * inv(D) @ A2) @ x + w * inv(D) @ f)\n",
        "print(x)\n",
        "\n",
        "toc = time.perf_counter()\n",
        "print(\"Время потраченное на выполнение: \", toc-tic)"
      ],
      "metadata": {
        "colab": {
          "base_uri": "https://localhost:8080/"
        },
        "id": "8SsZ2BsfRA0E",
        "outputId": "4a98e827-297b-407e-ed9b-8b01cf04358d"
      },
      "execution_count": 91,
      "outputs": [
        {
          "output_type": "stream",
          "name": "stdout",
          "text": [
            "[-0.02958669  0.76554329  0.6049431 ]\n",
            "Время потраченное на выполнение:  0.007214432999717246\n"
          ]
        }
      ]
    },
    {
      "cell_type": "code",
      "source": [
        ""
      ],
      "metadata": {
        "id": "QuCiejBBXrAK"
      },
      "execution_count": null,
      "outputs": []
    }
  ]
}