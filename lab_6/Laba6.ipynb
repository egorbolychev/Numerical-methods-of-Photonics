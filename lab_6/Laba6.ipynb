{
  "nbformat": 4,
  "nbformat_minor": 0,
  "metadata": {
    "colab": {
      "name": "Лаба6.ipynb",
      "provenance": []
    },
    "kernelspec": {
      "name": "python3",
      "display_name": "Python 3"
    },
    "language_info": {
      "name": "python"
    }
  },
  "cells": [
    {
      "cell_type": "code",
      "execution_count": null,
      "metadata": {
        "id": "cE6d8O6TF0to"
      },
      "outputs": [],
      "source": [
        "import numpy as np\n",
        "from numpy.linalg import norm\n",
        "from numpy import linspace"
      ]
    },
    {
      "cell_type": "code",
      "source": [
        "A = 5\n",
        "B = 6\n",
        "C = 9\n",
        "D = 3\n",
        "E = 5\n",
        "F = 8\n",
        "R = 10\n",
        "step = 0.001\n",
        "pos = np.array([100, 1], float)\n",
        "\n",
        "func = lambda x, y: 0.5*A*x**2 + B*x*y + 0.5*C*y**2 - D*x - E*y + F\n",
        "gradx = lambda x, y: A*x + B*y - D\n",
        "grady = lambda x, y: B*x + C*y - E\n",
        "\n",
        "# Analytics\n",
        "xTrue = (B*E-C*D)/(B*B-C*A)\n",
        "yTrue = (D-A*xTrue)/B\n",
        "print('Analytical  x:', xTrue,', y: ', yTrue,', func: ', func(xTrue,yTrue))\n",
        "\n",
        "def getGrad(position):\n",
        "  return gradx(position[0], position[1]), grady(position[0], position[1])\n",
        "\n",
        "def getNewpos(position, dir):\n",
        "  global step\n",
        "  while func(position[0], position[1]) > func(position[0] - step * dir[0], position[1] - step * dir[1]):\n",
        "    position = np.array([position[0] - step * dir[0], position[1] - step * dir[1]], float)\n",
        "  return position\n",
        "\n",
        "newPos = np.array([pos[0] - step * getGrad(pos)[0], pos[1] - step * getGrad(pos)[1]], float)\n",
        "while func(pos[0], pos[1]) > func(newPos[0], newPos[1]):\n",
        "  iter += 1\n",
        "  pos = newPos\n",
        "  dirrection = getGrad(pos)\n",
        "  newPos = getNewpos(pos, dirrection)\n",
        "print('Gradient  x:', newPos[0],', y: ', newPos[1],', func: ', func(newPos[0],newPos[1]),', Iterations: ', iter)\n",
        "\n",
        "# Newton\n",
        "lastPos = np.array([1, 1], float)\n",
        "lastValue = function(lastPos[0], lastPos[1])\n",
        "tempPos = np.array([lastPos[0] - gradx(lastPos[0], lastPos[1])/A, lastPos[1] - grady(lastPos[0], lastPos[1])/C])\n",
        "iterations = 0\n",
        "while norm(lastPos - tempPos) > 10 ** -4:\n",
        "  lastPos = tempPos\n",
        "  lastValue = function(lastPos[0], lastPos[1])\n",
        "  tempPos = np.array([lastPos[0] - gradx(lastPos[0], lastPos[1])/A, lastPos[1] - grady(lastPos[0], lastPos[1])/C])\n",
        "  iterations += 1\n",
        "print('Newton      x:', lastPos[0],', y: ', lastPos[1],', func: ', function(lastPos[0], lastPos[1]), ' Iterations', iterations)"
      ],
      "metadata": {
        "id": "xc01XfNhF5xr",
        "colab": {
          "base_uri": "https://localhost:8080/"
        },
        "outputId": "5d6b045b-5570-4408-d422-c67e60d0e579"
      },
      "execution_count": 141,
      "outputs": [
        {
          "output_type": "stream",
          "name": "stdout",
          "text": [
            "Analytical  x: -0.3333333333333333 , y:  0.7777777777777777 , func:  6.555555555555555\n",
            "Gradient  x: -0.3333320719136984 , y:  0.7777768694331619 , func:  6.555555555556371 , Iterations:  155\n",
            "Newton      x: -0.333347852047655 , y:  0.777729382063371 , func:  6.555555570838052  Iterations 89\n"
          ]
        }
      ]
    },
    {
      "cell_type": "code",
      "source": [
        ""
      ],
      "metadata": {
        "id": "3vSwgT5ZGMKK"
      },
      "execution_count": null,
      "outputs": []
    }
  ]
}