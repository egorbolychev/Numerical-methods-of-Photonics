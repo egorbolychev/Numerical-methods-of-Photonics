{
  "nbformat": 4,
  "nbformat_minor": 0,
  "metadata": {
    "colab": {
      "name": "Лаба 7.ipynb",
      "provenance": []
    },
    "kernelspec": {
      "name": "python3",
      "display_name": "Python 3"
    },
    "language_info": {
      "name": "python"
    }
  },
  "cells": [
    {
      "cell_type": "code",
      "execution_count": 3,
      "metadata": {
        "id": "oOAhWY2aCCf3"
      },
      "outputs": [],
      "source": [
        "import numpy as np\n",
        "import matplotlib.pyplot as plt\n",
        "from scipy import integrate\n",
        "import math\n",
        "from random import random"
      ]
    },
    {
      "cell_type": "code",
      "source": [
        "A = 4\n",
        "B = 2\n",
        "C = 3\n",
        "R = 1\n",
        "N = 10 ** 5\n",
        "boundx = [-1, 1]\n",
        "boundy = [-1, 1]\n",
        "\n",
        "newx = lambda mu: boundx[0] + (boundx[1] - boundx[0]) * mu\n",
        "newy = lambda nu: boundy[0] + (boundy[1] - boundy[0]) * nu\n",
        "\n",
        "def fun(x, y):\n",
        "  return A * x ** 2 + B * y ** 2 + C\n",
        "def circle(x,y):\n",
        "  return x ** 2 + y ** 2\n",
        "\n",
        "#Первый способ\n",
        "\n",
        "def carlo(N):\n",
        "  sum = 0\n",
        "  count = 0\n",
        "  max = 0\n",
        "  for i in range(N):\n",
        "    a = newx(random())\n",
        "    b = newy(random())\n",
        "    step = fun(a, b)\n",
        "    if circle(a, b) <= R:\n",
        "      if step > max:\n",
        "        max = step\n",
        "      sum += step\n",
        "  return sum, max\n",
        "\n",
        "ans = (boundy[1] - boundy[0]) * (boundx[1] - boundx[0])/N * carlo(N)[0]\n",
        "print(\"Первый способ дал результат: \", ans)\n",
        "\n",
        "#Второй способ\n",
        "\n",
        "M = carlo(N)[1]\n",
        "newz = lambda et: M * et\n",
        "\n",
        "def carlo_1(N):\n",
        "  count = 0\n",
        "  for i in range(N):\n",
        "    a = newx(random())\n",
        "    b = newy(random())\n",
        "    z = newz(random())\n",
        "    if circle(a, b) <= R and z <= fun(a, b):\n",
        "      count += 1\n",
        "  return count\n",
        "\n",
        "ans2 = (boundy[1] - boundy[0]) * (boundx[1] - boundx[0])*carlo_1(N) * M/N\n",
        "print(\"Второй способ дал результат: \", ans2)"
      ],
      "metadata": {
        "colab": {
          "base_uri": "https://localhost:8080/"
        },
        "id": "-e9j_GnyCKrc",
        "outputId": "b5667100-d957-4aca-c6c7-fc6a5804ff57"
      },
      "execution_count": 22,
      "outputs": [
        {
          "output_type": "stream",
          "name": "stdout",
          "text": [
            "Первый способ дал результат:  14.113790742634677\n",
            "Второй способ дал результат:  14.135580859265158\n"
          ]
        }
      ]
    }
  ]
}